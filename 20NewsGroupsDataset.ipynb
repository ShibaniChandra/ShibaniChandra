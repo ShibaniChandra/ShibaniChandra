{
 "cells": [
  {
   "cell_type": "markdown",
   "id": "e8c9ce22",
   "metadata": {},
   "source": [
    "# 20 News groups Dataset"
   ]
  },
  {
   "cell_type": "markdown",
   "id": "d1a0a1df",
   "metadata": {},
   "source": [
    "20 Newsgroups Dataset : Text Classification and Clustering\n",
    "\n",
    "\n",
    "1. Part 1: Text Pre-processing and Embedding Comparison \n",
    "   - Preprocessing steps correctly implemented and explained \n",
    "   - Comparison of word2vec, GloVe, and OpenAI embeddings\n",
    "   - Discussion on the embeddings that provide better semantic understanding\n",
    "\n",
    "2. Part 2: Text Classification Model \n",
    "   - Correct implementation of chosen classification model\n",
    "   - Comprehensive discussion on the choice of model, including its advantages and disadvantages\n",
    "\n",
    "3. Part 3: Text Clustering Model \n",
    "   - Correct implementation of chosen clustering model\n",
    "   - Comprehensive discussion on the choice of model, including its pros and cons\n",
    "\n",
    "4. Part 4: Model Evaluation \n",
    "   - Appropriate metrics chosen and correctly used to evaluate models\n",
    "   - Comprehensive discussion on the choice of metrics\n",
    "\n",
    "5. Part 5: Model Improvement Discussion \n",
    "   - Comprehensive discussion on potential improvements, including handling unbalanced data, dealing with slang, abbreviations or typos, and addressing context and word disambiguation challenges\n",
    "\n",
    " Dataset Link : http://qwone.com/~jason/20Newsgroups/"
   ]
  },
  {
   "cell_type": "markdown",
   "id": "d357f78b",
   "metadata": {},
   "source": [
    "### Import required libraries"
   ]
  },
  {
   "cell_type": "code",
   "execution_count": 1,
   "id": "25e26b4e",
   "metadata": {},
   "outputs": [
    {
     "name": "stderr",
     "output_type": "stream",
     "text": [
      "[nltk_data] Downloading package stopwords to\n",
      "[nltk_data]     C:\\Users\\shali\\AppData\\Roaming\\nltk_data...\n",
      "[nltk_data]   Package stopwords is already up-to-date!\n"
     ]
    },
    {
     "data": {
      "text/plain": [
       "True"
      ]
     },
     "execution_count": 1,
     "metadata": {},
     "output_type": "execute_result"
    }
   ],
   "source": [
    "#!pip install wget\n",
    "#!pip install nbconvert\n",
    "import gzip\n",
    "import tarfile\n",
    "import pandas as pd\n",
    "import numpy as np\n",
    "import wget \n",
    "import os\n",
    "import re\n",
    "import string\n",
    "import nltk\n",
    "from nltk.tokenize import word_tokenize\n",
    "from nltk.corpus import stopwords\n",
    "#from nltk.stem import PorterStemmer\n",
    "nltk.download('stopwords')\n"
   ]
  },
  {
   "cell_type": "markdown",
   "id": "72a498f5",
   "metadata": {},
   "source": [
    "### Set URL and the target directory for dataset download"
   ]
  },
  {
   "cell_type": "code",
   "execution_count": 2,
   "id": "99dfb535",
   "metadata": {},
   "outputs": [],
   "source": [
    "url = \"http://qwone.com/~jason/20Newsgroups/20news-19997.tar.gz\"\n",
    "target_dir= \"D:\\\\MTech in DSE-BITS Pilani\\\\S2\\\\AML\\\\Assignment 1\\\\\"\n",
    "sample_dir= \"D:\\\\MTech in DSE-BITS Pilani\\\\S2\\\\AML\\\\Assignment 1\\\\New folder\\\\\"\n",
    "#sample_dir= target_dir\n",
    "#The sample directory here has just a copy of 10 categories from the target dir - reduced data set"
   ]
  },
  {
   "cell_type": "markdown",
   "id": "f2b63fc7",
   "metadata": {},
   "source": [
    "### Function to Download dataset file from url to target_dir and extract files from the *.tar.gz"
   ]
  },
  {
   "cell_type": "code",
   "execution_count": 3,
   "id": "1350ed09",
   "metadata": {},
   "outputs": [],
   "source": [
    "def download_dataset(url, target_dir):\n",
    "    # downloading the data from web\n",
    "    listing_data = wget.download(url)\n",
    "    # extracting the files\n",
    "    tarfile.open(listing_data, \"r:gz\").extractall(path=target_dir)\n",
    "    print(\"\\nData set downloaded to local and extracted to \"+target_dir+\" \\n\")"
   ]
  },
  {
   "cell_type": "markdown",
   "id": "7a95637e",
   "metadata": {},
   "source": [
    "### Function to get the dataset from the files"
   ]
  },
  {
   "cell_type": "code",
   "execution_count": 4,
   "id": "de5ff14f",
   "metadata": {},
   "outputs": [],
   "source": [
    "def get_dataset(target_dir):\n",
    "    \n",
    "    data=[]\n",
    "    article_classes=[]\n",
    "\n",
    "    for subdir, dirs, files in os.walk(target_dir):\n",
    "        for file in files:\n",
    "            if file:\n",
    "                content = open(os.path.join(subdir, file), 'r').read()\n",
    "                article_class=subdir.rsplit(\"\\\\\")[-1]\n",
    "      \n",
    "                # On checking a few samples from the data set, we know that the header is of no value \n",
    "                # in the text classification here. Hence, we will partition the text content in file \n",
    "                # to get the main content of the article.\n",
    "                _header, _blankline, text = content.partition(\"\\n\\n\")\n",
    "                data.append([text,article_class,file])\n",
    "\n",
    "    df1 = pd.DataFrame(data, columns=['Text','ArticleCategory','File'])\n",
    "    df1.to_csv(\"D:\\\\MTech in DSE-BITS Pilani\\\\S2\\\\AML\\\\Assignment 1\\\\article_body.csv\")\n",
    "\n",
    "    #from IPython.display import display, HTML\n",
    "    #display(HTML(df.head(10).to_html()))\n",
    "    \n",
    "    return df1"
   ]
  },
  {
   "cell_type": "markdown",
   "id": "5d5b8160",
   "metadata": {},
   "source": [
    "### Pre-processing of the file content happens here. "
   ]
  },
  {
   "cell_type": "markdown",
   "id": "9ab834ae",
   "metadata": {},
   "source": [
    "Preprocessing steps done here:\n",
    "    \n",
    "Lowercasing: Converting all tokens to lowercase to ensure consistency.\n",
    "Removal of Extra Whitespaces: Removing extra spaces or tabs between words.\n",
    "Removal of Stop Words: Removing common words like \"and,\" \"the,\" \"is,\" etc., as they usually don't carry much meaning.\n",
    "Removal of Punctuation and Special characters: Removing punctuation marks, special characters, symbols, or non-alphanumeric characters from the text.\n",
    "Removal of Numeric Characters: Removing numbers or digits from the text.\n",
    "Tokenization: Splitting the text into individual words or tokens.\n",
    "\n",
    "Custom preprocessing for the dataset:\n",
    "Removal of unnecessary references with regular expression (Concluded from some samples on the regular expression to use for the same)\n",
    "Removal of Email IDs\n",
    "Removal of URLs\n",
    "    "
   ]
  },
  {
   "cell_type": "code",
   "execution_count": 5,
   "id": "0ee8dfcf",
   "metadata": {},
   "outputs": [],
   "source": [
    "def text_preprocessing(InputTextList):\n",
    "    data=[]\n",
    "    \n",
    "    for text in InputTextList:\n",
    "        #switch whole text to lower case\n",
    "        text = text.lower()\n",
    "\n",
    "        #remove quote references- the author's name and the reference is not important\n",
    "        quote_regex = re.compile(r\"(writes in|writes:|wrote:|says:|said:\" r\"|^from article|^In article|^Quoted from)\")\n",
    "        imp_line=\"\";\n",
    "        for line in text.split(\"\\n\"):\n",
    "            if not quote_regex.search(line):\n",
    "                imp_line=imp_line+\" \"+line\n",
    "\n",
    "        #remove email ids from the text\n",
    "        emailregex = re.compile(r'<?([A-Za-z0-9]+[.-_])*[A-Za-z0-9]+@[A-Za-z0-9-]+(\\.[A-Z|a-z]{2,})+>?(\\s\\([A-Za-z ]*\\))?')  \n",
    "        imp_line = emailregex.sub(' ', imp_line)    \n",
    "\n",
    "        #remove hyperlinks from the text\n",
    "        hyperlinkregex = re.compile('http[s]?://(?:[a-zA-Z]|[0-9]|[$-_@.&+]|[!*\\(\\),]|(?:%[0-9a-fA-F][0-9a-fA-F]))+')\n",
    "        imp_line = hyperlinkregex.sub('', imp_line)\n",
    "\n",
    "        #remove punctuations and other symbols from the text\n",
    "        symbolregex=re.compile(r'[|_,.\\\"!@#$%^&*(){}?/;`~:<>+=\\t-]')\n",
    "        imp_line = symbolregex.sub(' ', imp_line)   \n",
    "\n",
    "        #tokenise the text content to words\n",
    "        tokens = word_tokenize(imp_line)\n",
    "        table = str.maketrans('', '', string.punctuation)\n",
    "        stripped = [w.translate(table) for w in tokens]\n",
    "        words = [word for word in stripped if word.isalpha()]\n",
    "        \n",
    "        #removing stop words\n",
    "        stop_words = set(stopwords.words(\"english\"))\n",
    "        words = [w for w in words if not w in stop_words]\n",
    "        words = ' '.join(words)\n",
    "        text= words     \n",
    "        \n",
    "        #No need of stemming as we are using pre-trained GloVe model\n",
    "        #PS = PorterStemmer()\n",
    "        #text = text.str.split().apply(lambda x: ' '.join([PS.stem(word) for word in x]))\n",
    "\n",
    "        data.append([text])\n",
    "\n",
    "    return data\n",
    "    #display(HTML(df.to_html()))"
   ]
  },
  {
   "cell_type": "markdown",
   "id": "3321e84a",
   "metadata": {},
   "source": [
    "### Download the files"
   ]
  },
  {
   "cell_type": "code",
   "execution_count": 6,
   "id": "d175f297",
   "metadata": {},
   "outputs": [
    {
     "name": "stdout",
     "output_type": "stream",
     "text": [
      "100% [........................................................................] 17332201 / 17332201\n",
      "Data set downloaded to local and extracted to D:\\MTech in DSE-BITS Pilani\\S2\\AML\\Assignment 1\\ \n",
      "\n"
     ]
    }
   ],
   "source": [
    "download_dataset(url, target_dir)"
   ]
  },
  {
   "cell_type": "markdown",
   "id": "4de0938e",
   "metadata": {},
   "source": [
    "### Read the raw data from the dataset into a dataframe"
   ]
  },
  {
   "cell_type": "code",
   "execution_count": 7,
   "id": "885dd4ff",
   "metadata": {},
   "outputs": [],
   "source": [
    "# get the data set\n",
    "df1=pd.DataFrame()\n",
    "df1=get_dataset(sample_dir)"
   ]
  },
  {
   "cell_type": "markdown",
   "id": "b4bfd161",
   "metadata": {},
   "source": [
    "### Clean up the raw data in the dataset by preprocessing"
   ]
  },
  {
   "cell_type": "code",
   "execution_count": 8,
   "id": "f83cbbfb",
   "metadata": {},
   "outputs": [
    {
     "name": "stdout",
     "output_type": "stream",
     "text": [
      "Wall time: 13.8 s\n"
     ]
    }
   ],
   "source": [
    "%%time\n",
    "# Text pre-processing of the text data fetched\n",
    "cleantext=text_preprocessing(df1['Text'])"
   ]
  },
  {
   "cell_type": "markdown",
   "id": "549e47e3",
   "metadata": {},
   "source": [
    "### Merge the cleaned data (our corpus) with the target variable (ArticleCategory) - End of preprocessing"
   ]
  },
  {
   "cell_type": "code",
   "execution_count": 9,
   "id": "5685c44e",
   "metadata": {},
   "outputs": [
    {
     "data": {
      "text/html": [
       "<div>\n",
       "<style scoped>\n",
       "    .dataframe tbody tr th:only-of-type {\n",
       "        vertical-align: middle;\n",
       "    }\n",
       "\n",
       "    .dataframe tbody tr th {\n",
       "        vertical-align: top;\n",
       "    }\n",
       "\n",
       "    .dataframe thead th {\n",
       "        text-align: right;\n",
       "    }\n",
       "</style>\n",
       "<table border=\"1\" class=\"dataframe\">\n",
       "  <thead>\n",
       "    <tr style=\"text-align: right;\">\n",
       "      <th></th>\n",
       "      <th>Text</th>\n",
       "      <th>ArticleCategory</th>\n",
       "    </tr>\n",
       "  </thead>\n",
       "  <tbody>\n",
       "    <tr>\n",
       "      <th>0</th>\n",
       "      <td>archive name atheism resources alt atheism arc...</td>\n",
       "      <td>alt.atheism</td>\n",
       "    </tr>\n",
       "    <tr>\n",
       "      <th>1</th>\n",
       "      <td>archive name atheism introduction alt atheism ...</td>\n",
       "      <td>alt.atheism</td>\n",
       "    </tr>\n",
       "    <tr>\n",
       "      <th>2</th>\n",
       "      <td>article well john quite different necessarily ...</td>\n",
       "      <td>alt.atheism</td>\n",
       "    </tr>\n",
       "    <tr>\n",
       "      <th>3</th>\n",
       "      <td>recently ras ordered none resisted cared appar...</td>\n",
       "      <td>alt.atheism</td>\n",
       "    </tr>\n",
       "    <tr>\n",
       "      <th>4</th>\n",
       "      <td>however hate economic terrorism political corr...</td>\n",
       "      <td>alt.atheism</td>\n",
       "    </tr>\n",
       "  </tbody>\n",
       "</table>\n",
       "</div>"
      ],
      "text/plain": [
       "                                                Text ArticleCategory\n",
       "0  archive name atheism resources alt atheism arc...     alt.atheism\n",
       "1  archive name atheism introduction alt atheism ...     alt.atheism\n",
       "2  article well john quite different necessarily ...     alt.atheism\n",
       "3  recently ras ordered none resisted cared appar...     alt.atheism\n",
       "4  however hate economic terrorism political corr...     alt.atheism"
      ]
     },
     "execution_count": 9,
     "metadata": {},
     "output_type": "execute_result"
    }
   ],
   "source": [
    "df_cleantext=pd.DataFrame(cleantext, columns=['Text'])\n",
    "\n",
    "df2=pd.DataFrame()\n",
    "df2=pd.concat((df_cleantext, pd.DataFrame(df1['ArticleCategory'])), axis = 1, join='inner')\n",
    "df2.head(5)"
   ]
  },
  {
   "cell_type": "code",
   "execution_count": 10,
   "id": "c2e49f7f",
   "metadata": {},
   "outputs": [
    {
     "name": "stdout",
     "output_type": "stream",
     "text": [
      "(9999, 2)\n"
     ]
    }
   ],
   "source": [
    "# See the size of the data representation in dataframe \n",
    "print(df2.shape)"
   ]
  },
  {
   "cell_type": "markdown",
   "id": "d79eb5b4",
   "metadata": {},
   "source": [
    "#### Check if the sample has a fair distribution from all classes"
   ]
  },
  {
   "cell_type": "code",
   "execution_count": 11,
   "id": "21b53263",
   "metadata": {},
   "outputs": [
    {
     "name": "stdout",
     "output_type": "stream",
     "text": [
      "ArticleCategory\n",
      "alt.atheism                 1000\n",
      "comp.graphics               1000\n",
      "comp.os.ms-windows.misc     1000\n",
      "comp.sys.ibm.pc.hardware    1000\n",
      "comp.sys.mac.hardware       1000\n",
      "comp.windows.x              1000\n",
      "misc.forsale                1000\n",
      "rec.autos                   1000\n",
      "rec.motorcycles             1000\n",
      "rec.sport.baseball           999\n",
      "dtype: int64\n"
     ]
    },
    {
     "data": {
      "image/png": "[encoded data removed]",
      "text/plain": [
       "<Figure size 640x480 with 1 Axes>"
      ]
     },
     "metadata": {},
     "output_type": "display_data"
    }
   ],
   "source": [
    "print(df2.groupby('ArticleCategory').size())\n",
    " \n",
    "# Plotting the bar chart\n",
    "%matplotlib inline\n",
    "df2.groupby('ArticleCategory').size().plot(kind='bar');"
   ]
  },
  {
   "cell_type": "markdown",
   "id": "c8f4697b",
   "metadata": {},
   "source": [
    "### Preparing count vector for all words in the dataset -- Document Term Matrix"
   ]
  },
  {
   "cell_type": "code",
   "execution_count": 12,
   "id": "1c12660e",
   "metadata": {},
   "outputs": [],
   "source": [
    "from sklearn.feature_extraction.text import CountVectorizer\n",
    "\n",
    "# Corpus = The text data\n",
    "corpus = df2['Text'].values.tolist()\n",
    "\n",
    "vectorizer = CountVectorizer()\n",
    "X = vectorizer.fit_transform(corpus)\n",
    " \n",
    "# Preparing the dataframe for machine learning\n",
    "# ArticleCategory column -> Target variable \n",
    "# Other column -> Predictors\n",
    "CountVectorizedData=pd.DataFrame(X.toarray(), columns=vectorizer.get_feature_names_out())\n",
    "CountVectorizedData['Target']=df2['ArticleCategory']\n"
   ]
  },
  {
   "cell_type": "code",
   "execution_count": 13,
   "id": "98f8e1db",
   "metadata": {},
   "outputs": [
    {
     "name": "stdout",
     "output_type": "stream",
     "text": [
      "(9999, 60952)\n"
     ]
    },
    {
     "data": {
      "text/html": [
       "<div>\n",
       "<style scoped>\n",
       "    .dataframe tbody tr th:only-of-type {\n",
       "        vertical-align: middle;\n",
       "    }\n",
       "\n",
       "    .dataframe tbody tr th {\n",
       "        vertical-align: top;\n",
       "    }\n",
       "\n",
       "    .dataframe thead th {\n",
       "        text-align: right;\n",
       "    }\n",
       "</style>\n",
       "<table border=\"1\" class=\"dataframe\">\n",
       "  <thead>\n",
       "    <tr style=\"text-align: right;\">\n",
       "      <th></th>\n",
       "      <th>aa</th>\n",
       "      <th>aaa</th>\n",
       "      <th>aaaa</th>\n",
       "      <th>aaaaa</th>\n",
       "      <th>aaaaagggghhhh</th>\n",
       "      <th>aaaaarrrrgh</th>\n",
       "      <th>aaaahhh</th>\n",
       "      <th>aaahhhh</th>\n",
       "      <th>aaai</th>\n",
       "      <th>aaaread</th>\n",
       "      <th>...</th>\n",
       "      <th>zzx</th>\n",
       "      <th>zzy</th>\n",
       "      <th>zzzoh</th>\n",
       "      <th>zzzz</th>\n",
       "      <th>zzzzzz</th>\n",
       "      <th>zzzzzzt</th>\n",
       "      <th>ªl</th>\n",
       "      <th>ñaustin</th>\n",
       "      <th>ÿhooked</th>\n",
       "      <th>Target</th>\n",
       "    </tr>\n",
       "  </thead>\n",
       "  <tbody>\n",
       "    <tr>\n",
       "      <th>0</th>\n",
       "      <td>0</td>\n",
       "      <td>0</td>\n",
       "      <td>0</td>\n",
       "      <td>0</td>\n",
       "      <td>0</td>\n",
       "      <td>0</td>\n",
       "      <td>0</td>\n",
       "      <td>0</td>\n",
       "      <td>0</td>\n",
       "      <td>0</td>\n",
       "      <td>...</td>\n",
       "      <td>0</td>\n",
       "      <td>0</td>\n",
       "      <td>0</td>\n",
       "      <td>0</td>\n",
       "      <td>0</td>\n",
       "      <td>0</td>\n",
       "      <td>0</td>\n",
       "      <td>0</td>\n",
       "      <td>0</td>\n",
       "      <td>alt.atheism</td>\n",
       "    </tr>\n",
       "    <tr>\n",
       "      <th>1</th>\n",
       "      <td>0</td>\n",
       "      <td>0</td>\n",
       "      <td>0</td>\n",
       "      <td>0</td>\n",
       "      <td>0</td>\n",
       "      <td>0</td>\n",
       "      <td>0</td>\n",
       "      <td>0</td>\n",
       "      <td>0</td>\n",
       "      <td>0</td>\n",
       "      <td>...</td>\n",
       "      <td>0</td>\n",
       "      <td>0</td>\n",
       "      <td>0</td>\n",
       "      <td>0</td>\n",
       "      <td>0</td>\n",
       "      <td>0</td>\n",
       "      <td>0</td>\n",
       "      <td>0</td>\n",
       "      <td>0</td>\n",
       "      <td>alt.atheism</td>\n",
       "    </tr>\n",
       "    <tr>\n",
       "      <th>2</th>\n",
       "      <td>0</td>\n",
       "      <td>0</td>\n",
       "      <td>0</td>\n",
       "      <td>0</td>\n",
       "      <td>0</td>\n",
       "      <td>0</td>\n",
       "      <td>0</td>\n",
       "      <td>0</td>\n",
       "      <td>0</td>\n",
       "      <td>0</td>\n",
       "      <td>...</td>\n",
       "      <td>0</td>\n",
       "      <td>0</td>\n",
       "      <td>0</td>\n",
       "      <td>0</td>\n",
       "      <td>0</td>\n",
       "      <td>0</td>\n",
       "      <td>0</td>\n",
       "      <td>0</td>\n",
       "      <td>0</td>\n",
       "      <td>alt.atheism</td>\n",
       "    </tr>\n",
       "    <tr>\n",
       "      <th>3</th>\n",
       "      <td>0</td>\n",
       "      <td>0</td>\n",
       "      <td>0</td>\n",
       "      <td>0</td>\n",
       "      <td>0</td>\n",
       "      <td>0</td>\n",
       "      <td>0</td>\n",
       "      <td>0</td>\n",
       "      <td>0</td>\n",
       "      <td>0</td>\n",
       "      <td>...</td>\n",
       "      <td>0</td>\n",
       "      <td>0</td>\n",
       "      <td>0</td>\n",
       "      <td>0</td>\n",
       "      <td>0</td>\n",
       "      <td>0</td>\n",
       "      <td>0</td>\n",
       "      <td>0</td>\n",
       "      <td>0</td>\n",
       "      <td>alt.atheism</td>\n",
       "    </tr>\n",
       "    <tr>\n",
       "      <th>4</th>\n",
       "      <td>0</td>\n",
       "      <td>0</td>\n",
       "      <td>0</td>\n",
       "      <td>0</td>\n",
       "      <td>0</td>\n",
       "      <td>0</td>\n",
       "      <td>0</td>\n",
       "      <td>0</td>\n",
       "      <td>0</td>\n",
       "      <td>0</td>\n",
       "      <td>...</td>\n",
       "      <td>0</td>\n",
       "      <td>0</td>\n",
       "      <td>0</td>\n",
       "      <td>0</td>\n",
       "      <td>0</td>\n",
       "      <td>0</td>\n",
       "      <td>0</td>\n",
       "      <td>0</td>\n",
       "      <td>0</td>\n",
       "      <td>alt.atheism</td>\n",
       "    </tr>\n",
       "  </tbody>\n",
       "</table>\n",
       "<p>5 rows × 60952 columns</p>\n",
       "</div>"
      ],
      "text/plain": [
       "   aa  aaa  aaaa  aaaaa  aaaaagggghhhh  aaaaarrrrgh  aaaahhh  aaahhhh  aaai  \\\n",
       "0   0    0     0      0              0            0        0        0     0   \n",
       "1   0    0     0      0              0            0        0        0     0   \n",
       "2   0    0     0      0              0            0        0        0     0   \n",
       "3   0    0     0      0              0            0        0        0     0   \n",
       "4   0    0     0      0              0            0        0        0     0   \n",
       "\n",
       "   aaaread  ...  zzx  zzy  zzzoh  zzzz  zzzzzz  zzzzzzt  ªl  ñaustin  ÿhooked  \\\n",
       "0        0  ...    0    0      0     0       0        0   0        0        0   \n",
       "1        0  ...    0    0      0     0       0        0   0        0        0   \n",
       "2        0  ...    0    0      0     0       0        0   0        0        0   \n",
       "3        0  ...    0    0      0     0       0        0   0        0        0   \n",
       "4        0  ...    0    0      0     0       0        0   0        0        0   \n",
       "\n",
       "        Target  \n",
       "0  alt.atheism  \n",
       "1  alt.atheism  \n",
       "2  alt.atheism  \n",
       "3  alt.atheism  \n",
       "4  alt.atheism  \n",
       "\n",
       "[5 rows x 60952 columns]"
      ]
     },
     "execution_count": 13,
     "metadata": {},
     "output_type": "execute_result"
    }
   ],
   "source": [
    "# See the size of data representation in Count Vectors\n",
    "print(CountVectorizedData.shape)\n",
    "CountVectorizedData.head()"
   ]
  },
  {
   "cell_type": "markdown",
   "id": "48a7fd51",
   "metadata": {},
   "source": [
    "### Word Embedding - GloVe\n",
    "WORD EMBEDDING TECHNIQUES\n",
    "Text embedding is a technique to represent a word in a text as an array of numbers, such that words that are similar in meaning have similar array representation.\n",
    "There are many strategies to text embedding. A few examples are:\n",
    "1)\tBag of Words\n",
    "This is a very simple method which converts the words into a flat vector of numbers based on the number of occurrences of each word in the document. It only gives the number of times a word appeared in a document and does not pay importance to their sequential order. Hence it does not help with the meaning or semantics of the data.\n",
    "2)\tTF-IDF (Term Frequency – Inverse Document Frequency) Embedding\n",
    "Unlike Bag of Words, TF-IDF takes into consideration the occurrence of a word throughout the dataset. Here, the words are represented by a normalized count of each word, where each word count is divided by the number of documents in which it appears:\n",
    "Total documents: (N)\n",
    "Documents in which the word appears: (n)\n",
    "Number of times the word appears in the first sentence: TF\n",
    "Term Frequency(TF) = 1\n",
    "Inverse Document Frequency(IDF) = log(N/n)\n",
    "TF-IDF value = TF * IDF\n",
    "\n",
    "If a word appears many times in one document and not so much in the entire dataset, it means that the word is of some importance to the document and gets more weightage. If a word appears in many documents and less so in one document, it gets lesser weightage. This is better than Bag of words but still does not take into consideration the sequence of words, or their context.\n",
    "\n",
    "3)\tWord2vec Embedding\n",
    "Word2Vec is a much more efficient embedding technique that performs better with the meaning and relation between words. Similar words are placed close together in the vector space while dissimilar words are placed far apart. Each word can be represented by a vector of a defined size. Each value in the vector represents a quality of the word.\n",
    "Word2Vec is also implemented in different ways, some of which are:\n",
    "a)\tContinuous Bag of Words (CBOW): Looks at the words in a context window and predicts the words in between.\n",
    "b)\tSkipgram: Takes a target word and predicts the surrounding context words\n",
    "\n",
    "4)\tFastText:\n",
    "It is logically similar to Word2Vec but it uses N-gram of words during training. For eg, (Example 3-gram expressions for the word “Windows” -> Win, ind, ndo, dow, ows) If the word “Windows” was in the training dataset, and afterwards we encounter a word, likely a typo “Wndows”. Word2Vec will throw an error in this case that the word is not available, but FastText will return a vector to which “Windows” will closest to.\n",
    "\n",
    "5)\tGloVe (Global Vector) Embedding\n",
    "Unlike Word2Vec where the occurrence of a word is only checked locally, GloVe considers the global context of words from a corpus to create word embeddings. It uses a Cooccurrence matrix or a count matrix, which is a symmetric matrix that tells how often two words pair together. \n"
   ]
  },
  {
   "cell_type": "code",
   "execution_count": 14,
   "id": "67051910",
   "metadata": {},
   "outputs": [],
   "source": [
    "# Defining an empty dictionary to store the values\n",
    "GloveWordVectors = {}\n",
    " \n",
    "# Reading GloVe Data - Glove representation with 50 features has been already downloaded \n",
    "# from https://www.kaggle.com/datasets/anindya2906/glove6b?resource=download&select=glove.6B.50d.txt\n",
    "\n",
    "with open(\"D:\\\\MTech in DSE-BITS Pilani\\\\S2\\\\AML\\\\Assignment 1\\\\glove.6B.50d.txt\", 'r', encoding=\"utf-8\") as f:\n",
    "    for line in f:\n",
    "        values = line.split()\n",
    "        word = values[0]\n",
    "        vector = np.array(values[1:], \"float\")\n",
    "        GloveWordVectors[word] = vector"
   ]
  },
  {
   "cell_type": "code",
   "execution_count": 15,
   "id": "478833d1",
   "metadata": {},
   "outputs": [
    {
     "data": {
      "text/plain": [
       "400000"
      ]
     },
     "execution_count": 15,
     "metadata": {},
     "output_type": "execute_result"
    }
   ],
   "source": [
    "# Checking the total number of words present in the GloVe dictionary\n",
    "len(GloveWordVectors.keys())"
   ]
  },
  {
   "cell_type": "code",
   "execution_count": 16,
   "id": "cd777cd0",
   "metadata": {},
   "outputs": [
    {
     "data": {
      "text/plain": [
       "(50,)"
      ]
     },
     "execution_count": 16,
     "metadata": {},
     "output_type": "execute_result"
    }
   ],
   "source": [
    "# Each word has a numeric representation of 50 numbers.\n",
    "# Let us see an example\n",
    "GloveWordVectors['hello'].shape"
   ]
  },
  {
   "cell_type": "code",
   "execution_count": 17,
   "id": "fc6bbd28",
   "metadata": {},
   "outputs": [
    {
     "data": {
      "text/plain": [
       "Index(['aa', 'aaa', 'aaaa', 'aaaaa', 'aaaaagggghhhh', 'aaaaarrrrgh', 'aaaahhh',\n",
       "       'aaahhhh', 'aaai', 'aaaread'],\n",
       "      dtype='object')"
      ]
     },
     "execution_count": 17,
     "metadata": {},
     "output_type": "execute_result"
    }
   ],
   "source": [
    "# Pull the list of words which are present in the Document term matrix\n",
    "WordsVocab=CountVectorizedData.columns[:-1]\n",
    " \n",
    "# First 10 sample words in our document term matrix\n",
    "WordsVocab[0:10]"
   ]
  },
  {
   "cell_type": "markdown",
   "id": "546706b3",
   "metadata": {},
   "source": [
    "#### Function to convert text to numeric vectors"
   ]
  },
  {
   "cell_type": "code",
   "execution_count": 18,
   "id": "e3e18b87",
   "metadata": {},
   "outputs": [],
   "source": [
    "# Function to convert text to numeric vectors\n",
    "\n",
    "def Text2Vector(inputText):\n",
    "    # Converting the text to numeric data\n",
    "    X = vectorizer.transform(inputText)\n",
    "    CountVecData=pd.DataFrame(X.toarray(), columns=vectorizer.get_feature_names_out())\n",
    "    \n",
    "    # Creating empty dataframe to hold each article's vector\n",
    "    W2Vec_Data=pd.DataFrame()\n",
    "    \n",
    "    # Looping through each row for the data\n",
    "    for i in range(CountVecData.shape[0]):\n",
    " \n",
    "        # initiating an array for an article with all zeros\n",
    "        Article = np.zeros(50)\n",
    " \n",
    "        # Check if each word in the corpus is present in the GloVe model. \n",
    "        # If present, then store it's vector\n",
    "        for word in WordsVocab[CountVecData.iloc[i, : ]>=1]:\n",
    "            #print(word)\n",
    "            if word in GloveWordVectors.keys():    \n",
    "                Article=Article+GloveWordVectors[word]\n",
    "\n",
    "        # Appending the sentence to the dataframe\n",
    "        W2Vec_Data=pd.concat((W2Vec_Data, pd.DataFrame([Article])), axis = 0)\n",
    "    return(W2Vec_Data)"
   ]
  },
  {
   "cell_type": "markdown",
   "id": "51cba1a2",
   "metadata": {},
   "source": [
    "#### Calling the function to convert all corpus to Glove Vectors"
   ]
  },
  {
   "cell_type": "code",
   "execution_count": 19,
   "id": "dc85bb7b",
   "metadata": {},
   "outputs": [
    {
     "data": {
      "text/plain": [
       "(9999, 50)"
      ]
     },
     "execution_count": 19,
     "metadata": {},
     "output_type": "execute_result"
    }
   ],
   "source": [
    "W2Vec_Data=Text2Vector(df2['Text'])\n",
    " \n",
    "# Checking the new representation for text\n",
    "W2Vec_Data.shape"
   ]
  },
  {
   "cell_type": "code",
   "execution_count": 20,
   "id": "a9e41cb7",
   "metadata": {},
   "outputs": [
    {
     "name": "stdout",
     "output_type": "stream",
     "text": [
      "size of dataset:  (9999, 2)\n",
      "size of count vectorized data or the document term matrix (9999, 60952)\n",
      "size of the numeric vector:  (9999, 50)\n"
     ]
    }
   ],
   "source": [
    "# Comparing the sizes of each representation\n",
    "print(\"size of dataset: \", df2.shape)\n",
    "print(\"size of count vectorized data or the document term matrix\", CountVectorizedData.shape)\n",
    "print(\"size of the numeric vector: \", W2Vec_Data.shape)"
   ]
  },
  {
   "cell_type": "markdown",
   "id": "4e631e33",
   "metadata": {},
   "source": [
    "#### Add the target variable back to the numeric vectors - End of Word Embedding"
   ]
  },
  {
   "cell_type": "code",
   "execution_count": 21,
   "id": "a3e094c3",
   "metadata": {},
   "outputs": [
    {
     "data": {
      "text/html": [
       "<div>\n",
       "<style scoped>\n",
       "    .dataframe tbody tr th:only-of-type {\n",
       "        vertical-align: middle;\n",
       "    }\n",
       "\n",
       "    .dataframe tbody tr th {\n",
       "        vertical-align: top;\n",
       "    }\n",
       "\n",
       "    .dataframe thead th {\n",
       "        text-align: right;\n",
       "    }\n",
       "</style>\n",
       "<table border=\"1\" class=\"dataframe\">\n",
       "  <thead>\n",
       "    <tr style=\"text-align: right;\">\n",
       "      <th></th>\n",
       "      <th>0</th>\n",
       "      <th>1</th>\n",
       "      <th>2</th>\n",
       "      <th>3</th>\n",
       "      <th>4</th>\n",
       "      <th>5</th>\n",
       "      <th>6</th>\n",
       "      <th>7</th>\n",
       "      <th>8</th>\n",
       "      <th>9</th>\n",
       "      <th>...</th>\n",
       "      <th>41</th>\n",
       "      <th>42</th>\n",
       "      <th>43</th>\n",
       "      <th>44</th>\n",
       "      <th>45</th>\n",
       "      <th>46</th>\n",
       "      <th>47</th>\n",
       "      <th>48</th>\n",
       "      <th>49</th>\n",
       "      <th>Target</th>\n",
       "    </tr>\n",
       "  </thead>\n",
       "  <tbody>\n",
       "    <tr>\n",
       "      <th>0</th>\n",
       "      <td>80.516625</td>\n",
       "      <td>130.207824</td>\n",
       "      <td>-96.425175</td>\n",
       "      <td>-178.667775</td>\n",
       "      <td>155.172361</td>\n",
       "      <td>96.350308</td>\n",
       "      <td>-155.546783</td>\n",
       "      <td>-188.074914</td>\n",
       "      <td>-41.395652</td>\n",
       "      <td>77.025824</td>\n",
       "      <td>...</td>\n",
       "      <td>-51.740934</td>\n",
       "      <td>14.354719</td>\n",
       "      <td>154.616848</td>\n",
       "      <td>-25.114383</td>\n",
       "      <td>89.923776</td>\n",
       "      <td>-11.169875</td>\n",
       "      <td>13.851747</td>\n",
       "      <td>-43.558057</td>\n",
       "      <td>-33.237717</td>\n",
       "      <td>alt.atheism</td>\n",
       "    </tr>\n",
       "    <tr>\n",
       "      <th>1</th>\n",
       "      <td>257.652638</td>\n",
       "      <td>13.160305</td>\n",
       "      <td>-136.498266</td>\n",
       "      <td>-302.027560</td>\n",
       "      <td>385.496896</td>\n",
       "      <td>208.635462</td>\n",
       "      <td>-58.478756</td>\n",
       "      <td>-73.370206</td>\n",
       "      <td>-92.644133</td>\n",
       "      <td>222.496512</td>\n",
       "      <td>...</td>\n",
       "      <td>-165.470802</td>\n",
       "      <td>83.260347</td>\n",
       "      <td>455.222619</td>\n",
       "      <td>22.786062</td>\n",
       "      <td>35.474024</td>\n",
       "      <td>-141.428848</td>\n",
       "      <td>265.216307</td>\n",
       "      <td>2.117639</td>\n",
       "      <td>22.862008</td>\n",
       "      <td>alt.atheism</td>\n",
       "    </tr>\n",
       "    <tr>\n",
       "      <th>2</th>\n",
       "      <td>47.337930</td>\n",
       "      <td>33.693242</td>\n",
       "      <td>-7.681159</td>\n",
       "      <td>-44.532079</td>\n",
       "      <td>91.126963</td>\n",
       "      <td>30.768702</td>\n",
       "      <td>-66.730994</td>\n",
       "      <td>-25.326460</td>\n",
       "      <td>-51.268934</td>\n",
       "      <td>29.084813</td>\n",
       "      <td>...</td>\n",
       "      <td>0.355917</td>\n",
       "      <td>4.062604</td>\n",
       "      <td>69.546506</td>\n",
       "      <td>-15.091762</td>\n",
       "      <td>24.245843</td>\n",
       "      <td>-2.532968</td>\n",
       "      <td>37.223693</td>\n",
       "      <td>-12.026260</td>\n",
       "      <td>9.657615</td>\n",
       "      <td>alt.atheism</td>\n",
       "    </tr>\n",
       "    <tr>\n",
       "      <th>3</th>\n",
       "      <td>10.011796</td>\n",
       "      <td>8.053694</td>\n",
       "      <td>-15.133789</td>\n",
       "      <td>-30.921763</td>\n",
       "      <td>35.551324</td>\n",
       "      <td>3.691018</td>\n",
       "      <td>-25.945323</td>\n",
       "      <td>-9.590179</td>\n",
       "      <td>-9.825495</td>\n",
       "      <td>8.940114</td>\n",
       "      <td>...</td>\n",
       "      <td>-1.936923</td>\n",
       "      <td>-18.376001</td>\n",
       "      <td>29.298141</td>\n",
       "      <td>7.597278</td>\n",
       "      <td>12.488842</td>\n",
       "      <td>-8.426378</td>\n",
       "      <td>0.066838</td>\n",
       "      <td>-7.290275</td>\n",
       "      <td>0.817864</td>\n",
       "      <td>alt.atheism</td>\n",
       "    </tr>\n",
       "    <tr>\n",
       "      <th>4</th>\n",
       "      <td>1.975186</td>\n",
       "      <td>2.505499</td>\n",
       "      <td>1.501821</td>\n",
       "      <td>-8.270474</td>\n",
       "      <td>0.543314</td>\n",
       "      <td>8.162148</td>\n",
       "      <td>-7.356580</td>\n",
       "      <td>-8.814079</td>\n",
       "      <td>3.623393</td>\n",
       "      <td>-1.022352</td>\n",
       "      <td>...</td>\n",
       "      <td>-7.937634</td>\n",
       "      <td>-0.286769</td>\n",
       "      <td>7.467323</td>\n",
       "      <td>-2.338004</td>\n",
       "      <td>1.578765</td>\n",
       "      <td>-4.322522</td>\n",
       "      <td>6.353964</td>\n",
       "      <td>-1.419404</td>\n",
       "      <td>3.987888</td>\n",
       "      <td>alt.atheism</td>\n",
       "    </tr>\n",
       "  </tbody>\n",
       "</table>\n",
       "<p>5 rows × 51 columns</p>\n",
       "</div>"
      ],
      "text/plain": [
       "            0           1           2           3           4           5  \\\n",
       "0   80.516625  130.207824  -96.425175 -178.667775  155.172361   96.350308   \n",
       "1  257.652638   13.160305 -136.498266 -302.027560  385.496896  208.635462   \n",
       "2   47.337930   33.693242   -7.681159  -44.532079   91.126963   30.768702   \n",
       "3   10.011796    8.053694  -15.133789  -30.921763   35.551324    3.691018   \n",
       "4    1.975186    2.505499    1.501821   -8.270474    0.543314    8.162148   \n",
       "\n",
       "            6           7          8           9  ...          41         42  \\\n",
       "0 -155.546783 -188.074914 -41.395652   77.025824  ...  -51.740934  14.354719   \n",
       "1  -58.478756  -73.370206 -92.644133  222.496512  ... -165.470802  83.260347   \n",
       "2  -66.730994  -25.326460 -51.268934   29.084813  ...    0.355917   4.062604   \n",
       "3  -25.945323   -9.590179  -9.825495    8.940114  ...   -1.936923 -18.376001   \n",
       "4   -7.356580   -8.814079   3.623393   -1.022352  ...   -7.937634  -0.286769   \n",
       "\n",
       "           43         44         45          46          47         48  \\\n",
       "0  154.616848 -25.114383  89.923776  -11.169875   13.851747 -43.558057   \n",
       "1  455.222619  22.786062  35.474024 -141.428848  265.216307   2.117639   \n",
       "2   69.546506 -15.091762  24.245843   -2.532968   37.223693 -12.026260   \n",
       "3   29.298141   7.597278  12.488842   -8.426378    0.066838  -7.290275   \n",
       "4    7.467323  -2.338004   1.578765   -4.322522    6.353964  -1.419404   \n",
       "\n",
       "          49       Target  \n",
       "0 -33.237717  alt.atheism  \n",
       "1  22.862008  alt.atheism  \n",
       "2   9.657615  alt.atheism  \n",
       "3   0.817864  alt.atheism  \n",
       "4   3.987888  alt.atheism  \n",
       "\n",
       "[5 rows x 51 columns]"
      ]
     },
     "execution_count": 21,
     "metadata": {},
     "output_type": "execute_result"
    }
   ],
   "source": [
    "# Adding the target variable - article category\n",
    "# \n",
    "W2Vec_Data.reset_index(inplace=True, drop=True)\n",
    "W2Vec_Data['Target']=CountVectorizedData['Target']\n",
    " \n",
    "# Assigning to DataForML variable\n",
    "DataForML=W2Vec_Data\n",
    "DataForML.head()"
   ]
  },
  {
   "cell_type": "markdown",
   "id": "cf276fb3",
   "metadata": {},
   "source": [
    "#### Set the target variable and predictors - being generic with the column indices"
   ]
  },
  {
   "cell_type": "code",
   "execution_count": 22,
   "id": "a85671e8",
   "metadata": {},
   "outputs": [],
   "source": [
    "# Set the target variable and predictors being generic with the column indices\n",
    "TargetVariable=DataForML.columns[-1]\n",
    "Predictors=DataForML.columns[:-1]\n",
    " \n",
    "X=DataForML[Predictors].values\n",
    "y=DataForML[TargetVariable].values\n"
   ]
  },
  {
   "cell_type": "markdown",
   "id": "985cf5f5",
   "metadata": {},
   "source": [
    "### Normalize the feature values - We use Min Max Normalization here"
   ]
  },
  {
   "cell_type": "code",
   "execution_count": 23,
   "id": "cb2afb60",
   "metadata": {},
   "outputs": [],
   "source": [
    "from sklearn.preprocessing import MinMaxScaler\n",
    "\n",
    "PredictorScaler=MinMaxScaler()\n",
    "\n",
    "PredictorScalerFit=PredictorScaler.fit(X)\n",
    "\n",
    "# Generating the standardized values of X\n",
    "X=PredictorScalerFit.transform(X)"
   ]
  },
  {
   "cell_type": "markdown",
   "id": "40daa609",
   "metadata": {},
   "source": [
    "### Split the dataset into training and testing datasets"
   ]
  },
  {
   "cell_type": "code",
   "execution_count": 24,
   "id": "64c411cd",
   "metadata": {
    "scrolled": true
   },
   "outputs": [
    {
     "name": "stdout",
     "output_type": "stream",
     "text": [
      "(6999, 50)\n",
      "(6999,)\n",
      "(3000, 50)\n",
      "(3000,)\n"
     ]
    }
   ],
   "source": [
    "# Split the data into training and testing set\n",
    "from sklearn.model_selection import train_test_split\n",
    "X_train, X_test, y_train, y_test = train_test_split(X, y, test_size=0.3, random_state=428)\n",
    " \n",
    "# Check the sample sizes\n",
    "print(X_train.shape)\n",
    "print(y_train.shape)\n",
    "print(X_test.shape)\n",
    "print(y_test.shape)"
   ]
  },
  {
   "cell_type": "markdown",
   "id": "117a98b7",
   "metadata": {},
   "source": [
    "### Text Classification - Logistic Regression - using predefined model\n",
    "The logistic regression classifier uses the weighted combination of the input features and passes them through a sigmoid function. Sigmoid function transforms any real number input, to a number between 0 and 1.\n",
    "\n",
    "The advantages of using Logistic Regression for text classification are:\n",
    "- It does not require high computation power.\n",
    "- It is easy to implement.\n",
    "- It provides probability score for observation.\n",
    "\n",
    "The disadvantages are:\n",
    "- It cannot handle a large number of features and variables.\n",
    "- Logistic regression is prone to overfitting.\n",
    "- It does not perform well with independent variables that are not correlated to the target variable and are very similar or correlated to each other."
   ]
  },
  {
   "cell_type": "code",
   "execution_count": 25,
   "id": "17d7a7fd",
   "metadata": {},
   "outputs": [
    {
     "name": "stdout",
     "output_type": "stream",
     "text": [
      "          0         1         2         3         4         5         6  \\\n",
      "0  0.423406  0.330980  0.255946  0.632836  0.578588  0.716708  0.334333   \n",
      "1  0.459548  0.335468  0.284344  0.634599  0.576968  0.701581  0.329706   \n",
      "2  0.446837  0.320985  0.284221  0.623405  0.585751  0.713343  0.324532   \n",
      "3  0.446351  0.348559  0.292244  0.640671  0.580435  0.711459  0.334388   \n",
      "4  0.427446  0.386746  0.238264  0.618312  0.594626  0.725466  0.294242   \n",
      "\n",
      "          7         8         9  ...        42        43        44        45  \\\n",
      "0  0.792446  0.524167  0.211648  ...  0.531168  0.100308  0.773506  0.429095   \n",
      "1  0.785433  0.508134  0.237610  ...  0.501998  0.120832  0.765749  0.463244   \n",
      "2  0.811555  0.504563  0.222941  ...  0.507170  0.119370  0.750445  0.436897   \n",
      "3  0.785953  0.510208  0.252456  ...  0.511669  0.099036  0.753916  0.456165   \n",
      "4  0.781338  0.444131  0.245533  ...  0.530575  0.130053  0.769443  0.497675   \n",
      "\n",
      "         46        47        48        49            Category  \\\n",
      "0  0.212457  0.326629  0.223831  0.452814     rec.motorcycles   \n",
      "1  0.220785  0.355029  0.229635  0.478587      comp.windows.x   \n",
      "2  0.206689  0.342554  0.218626  0.468594  rec.sport.baseball   \n",
      "3  0.209335  0.357871  0.226210  0.461630        misc.forsale   \n",
      "4  0.193074  0.366185  0.190214  0.468006  rec.sport.baseball   \n",
      "\n",
      "   Predicted_Category  \n",
      "0     rec.motorcycles  \n",
      "1      comp.windows.x  \n",
      "2     rec.motorcycles  \n",
      "3        misc.forsale  \n",
      "4  rec.sport.baseball  \n",
      "\n",
      "[5 rows x 52 columns]\n"
     ]
    },
    {
     "name": "stderr",
     "output_type": "stream",
     "text": [
      "C:\\Users\\shali\\anaconda3\\lib\\site-packages\\sklearn\\linear_model\\_sag.py:352: ConvergenceWarning: The max_iter was reached which means the coef_ did not converge\n",
      "  warnings.warn(\n"
     ]
    }
   ],
   "source": [
    "#### Logistic Regression\n",
    "from sklearn.linear_model import LogisticRegression\n",
    "# choose parameter Penalty='l1' or C=1\n",
    "# clf = LogisticRegression(C=10,penalty='l2', solver='newton-cg')\n",
    "# choose different values for solver 'newton-cg', 'lbfgs', 'liblinear', 'sag', 'saga'\n",
    "clf = LogisticRegression(C=1,penalty='l1', solver='saga')\n",
    "\n",
    "# Printing all the parameters of logistic regression\n",
    "# print(clf)\n",
    "\n",
    "# Creating the model on Training Data\n",
    "LOG=clf.fit(X_train,y_train)\n",
    "\n",
    "# Generating predictions on testing data\n",
    "prediction=LOG.predict(X_test)\n",
    "# Printing sample values of prediction in Testing data\n",
    "TestingData=pd.DataFrame(data=X_test, columns=Predictors)\n",
    "TestingData['Category']=y_test\n",
    "TestingData['Predicted_Category']=prediction\n",
    "print(TestingData.head())\n"
   ]
  },
  {
   "cell_type": "markdown",
   "id": "8a5eb4ac",
   "metadata": {},
   "source": [
    "#### -----Model Evaluation-----"
   ]
  },
  {
   "cell_type": "code",
   "execution_count": 27,
   "id": "b22b50bb",
   "metadata": {},
   "outputs": [
    {
     "name": "stdout",
     "output_type": "stream",
     "text": [
      "                          precision    recall  f1-score   support\n",
      "\n",
      "             alt.atheism       0.80      0.90      0.85       302\n",
      "           comp.graphics       0.43      0.41      0.42       306\n",
      " comp.os.ms-windows.misc       0.42      0.32      0.37       292\n",
      "comp.sys.ibm.pc.hardware       0.42      0.40      0.41       283\n",
      "   comp.sys.mac.hardware       0.42      0.21      0.28       310\n",
      "          comp.windows.x       0.41      0.44      0.42       295\n",
      "            misc.forsale       0.48      0.71      0.57       331\n",
      "               rec.autos       0.65      0.69      0.67       269\n",
      "         rec.motorcycles       0.65      0.72      0.68       310\n",
      "      rec.sport.baseball       0.92      0.87      0.90       302\n",
      "\n",
      "                accuracy                           0.57      3000\n",
      "               macro avg       0.56      0.57      0.56      3000\n",
      "            weighted avg       0.56      0.57      0.56      3000\n",
      "\n",
      "[[272  18   3   0   7   8   3   8  14   8]\n",
      " [  4 124  23  18  24  77  12   1   2   4]\n",
      " [  0  35  94  33  26  18  14   2   1   0]\n",
      " [  1   9  34 113  73   9  24   3   0   0]\n",
      " [  2  10  19  30  66  13  12   3   1   2]\n",
      " [  2  55  64  32  25 130   5   3   4   0]\n",
      " [  2  40  41  44  58  32 235  15  15  10]\n",
      " [  7   3   5   8  18   2  11 185  46   0]\n",
      " [ 10   9   6   5  11   5  10  48 222  14]\n",
      " [  2   3   3   0   2   1   5   1   5 264]]\n",
      "Accuracy of the model on Testing Sample Data: 0.56\n"
     ]
    },
    {
     "name": "stderr",
     "output_type": "stream",
     "text": [
      "C:\\Users\\shali\\anaconda3\\lib\\site-packages\\sklearn\\linear_model\\_sag.py:352: ConvergenceWarning: The max_iter was reached which means the coef_ did not converge\n",
      "  warnings.warn(\n",
      "C:\\Users\\shali\\anaconda3\\lib\\site-packages\\sklearn\\linear_model\\_sag.py:352: ConvergenceWarning: The max_iter was reached which means the coef_ did not converge\n",
      "  warnings.warn(\n",
      "C:\\Users\\shali\\anaconda3\\lib\\site-packages\\sklearn\\linear_model\\_sag.py:352: ConvergenceWarning: The max_iter was reached which means the coef_ did not converge\n",
      "  warnings.warn(\n",
      "C:\\Users\\shali\\anaconda3\\lib\\site-packages\\sklearn\\linear_model\\_sag.py:352: ConvergenceWarning: The max_iter was reached which means the coef_ did not converge\n",
      "  warnings.warn(\n",
      "C:\\Users\\shali\\anaconda3\\lib\\site-packages\\sklearn\\linear_model\\_sag.py:352: ConvergenceWarning: The max_iter was reached which means the coef_ did not converge\n",
      "  warnings.warn(\n",
      "C:\\Users\\shali\\anaconda3\\lib\\site-packages\\sklearn\\linear_model\\_sag.py:352: ConvergenceWarning: The max_iter was reached which means the coef_ did not converge\n",
      "  warnings.warn(\n",
      "C:\\Users\\shali\\anaconda3\\lib\\site-packages\\sklearn\\linear_model\\_sag.py:352: ConvergenceWarning: The max_iter was reached which means the coef_ did not converge\n",
      "  warnings.warn(\n",
      "C:\\Users\\shali\\anaconda3\\lib\\site-packages\\sklearn\\linear_model\\_sag.py:352: ConvergenceWarning: The max_iter was reached which means the coef_ did not converge\n",
      "  warnings.warn(\n",
      "C:\\Users\\shali\\anaconda3\\lib\\site-packages\\sklearn\\linear_model\\_sag.py:352: ConvergenceWarning: The max_iter was reached which means the coef_ did not converge\n",
      "  warnings.warn(\n"
     ]
    },
    {
     "name": "stdout",
     "output_type": "stream",
     "text": [
      "\n",
      "Accuracy values for 10-fold Cross Validation:\n",
      " [0.56451367 0.55473027 0.54042951 0.57620529 0.51524476 0.56807482\n",
      " 0.55851857 0.57477783 0.54862634 0.55699932]\n",
      "\n",
      "Final Average Accuracy of the model: 0.56\n"
     ]
    },
    {
     "name": "stderr",
     "output_type": "stream",
     "text": [
      "C:\\Users\\shali\\anaconda3\\lib\\site-packages\\sklearn\\linear_model\\_sag.py:352: ConvergenceWarning: The max_iter was reached which means the coef_ did not converge\n",
      "  warnings.warn(\n"
     ]
    }
   ],
   "source": [
    "\n",
    "# Measuring accuracy on Testing Data\n",
    "from sklearn import metrics\n",
    "print(metrics.classification_report(y_test, prediction))\n",
    "print(metrics.confusion_matrix(prediction, y_test))\n",
    "\n",
    "## Printing the Overall Accuracy of the model\n",
    "F1_Score=metrics.f1_score(y_test, prediction, average='weighted')\n",
    "print('Accuracy of the model on Testing Sample Data:', round(F1_Score,2))\n",
    "\n",
    "# Importing cross validation function from sklearn\n",
    "from sklearn.model_selection import cross_val_score\n",
    "\n",
    "## Running 10-Fold Cross validation on a given algorithm\n",
    "## Passing full data X and y because the K-fold will split the data and automatically choose train/test\n",
    "Accuracy_Values=cross_val_score(LOG, X , y, cv=10, scoring='f1_weighted')\n",
    "print('\\nAccuracy values for 10-fold Cross Validation:\\n',Accuracy_Values)\n",
    "print('\\nFinal Average Accuracy of the model:', round(Accuracy_Values.mean(),2))"
   ]
  },
  {
   "cell_type": "code",
   "execution_count": 28,
   "id": "65579989",
   "metadata": {},
   "outputs": [
    {
     "name": "stdout",
     "output_type": "stream",
     "text": [
      "KNeighborsClassifier()\n"
     ]
    },
    {
     "name": "stderr",
     "output_type": "stream",
     "text": [
      "C:\\Users\\shali\\anaconda3\\lib\\site-packages\\sklearn\\neighbors\\_classification.py:228: FutureWarning: Unlike other reduction functions (e.g. `skew`, `kurtosis`), the default behavior of `mode` typically preserves the axis it acts along. In SciPy 1.11.0, this behavior will change: the default value of `keepdims` will become False, the `axis` over which the statistic is taken will be eliminated, and the value None will no longer be accepted. Set `keepdims` to True or False to avoid this warning.\n",
      "  mode, _ = stats.mode(_y[neigh_ind, k], axis=1)\n"
     ]
    },
    {
     "name": "stdout",
     "output_type": "stream",
     "text": [
      "                          precision    recall  f1-score   support\n",
      "\n",
      "             alt.atheism       0.77      0.89      0.82       302\n",
      "           comp.graphics       0.40      0.45      0.43       306\n",
      " comp.os.ms-windows.misc       0.35      0.43      0.38       292\n",
      "comp.sys.ibm.pc.hardware       0.32      0.45      0.38       283\n",
      "   comp.sys.mac.hardware       0.38      0.34      0.35       310\n",
      "          comp.windows.x       0.40      0.35      0.37       295\n",
      "            misc.forsale       0.65      0.50      0.56       331\n",
      "               rec.autos       0.67      0.65      0.66       269\n",
      "         rec.motorcycles       0.73      0.49      0.59       310\n",
      "      rec.sport.baseball       0.87      0.85      0.86       302\n",
      "\n",
      "                accuracy                           0.54      3000\n",
      "               macro avg       0.55      0.54      0.54      3000\n",
      "            weighted avg       0.56      0.54      0.54      3000\n",
      "\n",
      "[[268   5   0   4   3   7   3   5   5   2]\n",
      " [ 15 138  42  33  23  35  12   2   1   5]\n",
      " [  3  40 125  42  26  34  10   5   7   0]\n",
      " [  3  22  44 127  37  27  15   5   2   1]\n",
      " [  6  30  49  69 104  17  17  13   4   1]\n",
      " [  7  60  49  41  21 104   9   0   0   4]\n",
      " [  5  23  27  38  34  14 164  10   4  12]\n",
      " [ 11   6   3  16  16   6   7 175  25   4]\n",
      " [ 17  17  13  17  11  13  14  45 153  10]\n",
      " [ 13   2   6   5   2   6   2   1   8 257]]\n",
      "Accuracy of the model on Testing Sample Data: 0.54\n"
     ]
    },
    {
     "name": "stderr",
     "output_type": "stream",
     "text": [
      "C:\\Users\\shali\\anaconda3\\lib\\site-packages\\sklearn\\neighbors\\_classification.py:228: FutureWarning: Unlike other reduction functions (e.g. `skew`, `kurtosis`), the default behavior of `mode` typically preserves the axis it acts along. In SciPy 1.11.0, this behavior will change: the default value of `keepdims` will become False, the `axis` over which the statistic is taken will be eliminated, and the value None will no longer be accepted. Set `keepdims` to True or False to avoid this warning.\n",
      "  mode, _ = stats.mode(_y[neigh_ind, k], axis=1)\n",
      "C:\\Users\\shali\\anaconda3\\lib\\site-packages\\sklearn\\neighbors\\_classification.py:228: FutureWarning: Unlike other reduction functions (e.g. `skew`, `kurtosis`), the default behavior of `mode` typically preserves the axis it acts along. In SciPy 1.11.0, this behavior will change: the default value of `keepdims` will become False, the `axis` over which the statistic is taken will be eliminated, and the value None will no longer be accepted. Set `keepdims` to True or False to avoid this warning.\n",
      "  mode, _ = stats.mode(_y[neigh_ind, k], axis=1)\n",
      "C:\\Users\\shali\\anaconda3\\lib\\site-packages\\sklearn\\neighbors\\_classification.py:228: FutureWarning: Unlike other reduction functions (e.g. `skew`, `kurtosis`), the default behavior of `mode` typically preserves the axis it acts along. In SciPy 1.11.0, this behavior will change: the default value of `keepdims` will become False, the `axis` over which the statistic is taken will be eliminated, and the value None will no longer be accepted. Set `keepdims` to True or False to avoid this warning.\n",
      "  mode, _ = stats.mode(_y[neigh_ind, k], axis=1)\n",
      "C:\\Users\\shali\\anaconda3\\lib\\site-packages\\sklearn\\neighbors\\_classification.py:228: FutureWarning: Unlike other reduction functions (e.g. `skew`, `kurtosis`), the default behavior of `mode` typically preserves the axis it acts along. In SciPy 1.11.0, this behavior will change: the default value of `keepdims` will become False, the `axis` over which the statistic is taken will be eliminated, and the value None will no longer be accepted. Set `keepdims` to True or False to avoid this warning.\n",
      "  mode, _ = stats.mode(_y[neigh_ind, k], axis=1)\n",
      "C:\\Users\\shali\\anaconda3\\lib\\site-packages\\sklearn\\neighbors\\_classification.py:228: FutureWarning: Unlike other reduction functions (e.g. `skew`, `kurtosis`), the default behavior of `mode` typically preserves the axis it acts along. In SciPy 1.11.0, this behavior will change: the default value of `keepdims` will become False, the `axis` over which the statistic is taken will be eliminated, and the value None will no longer be accepted. Set `keepdims` to True or False to avoid this warning.\n",
      "  mode, _ = stats.mode(_y[neigh_ind, k], axis=1)\n",
      "C:\\Users\\shali\\anaconda3\\lib\\site-packages\\sklearn\\neighbors\\_classification.py:228: FutureWarning: Unlike other reduction functions (e.g. `skew`, `kurtosis`), the default behavior of `mode` typically preserves the axis it acts along. In SciPy 1.11.0, this behavior will change: the default value of `keepdims` will become False, the `axis` over which the statistic is taken will be eliminated, and the value None will no longer be accepted. Set `keepdims` to True or False to avoid this warning.\n",
      "  mode, _ = stats.mode(_y[neigh_ind, k], axis=1)\n",
      "C:\\Users\\shali\\anaconda3\\lib\\site-packages\\sklearn\\neighbors\\_classification.py:228: FutureWarning: Unlike other reduction functions (e.g. `skew`, `kurtosis`), the default behavior of `mode` typically preserves the axis it acts along. In SciPy 1.11.0, this behavior will change: the default value of `keepdims` will become False, the `axis` over which the statistic is taken will be eliminated, and the value None will no longer be accepted. Set `keepdims` to True or False to avoid this warning.\n",
      "  mode, _ = stats.mode(_y[neigh_ind, k], axis=1)\n",
      "C:\\Users\\shali\\anaconda3\\lib\\site-packages\\sklearn\\neighbors\\_classification.py:228: FutureWarning: Unlike other reduction functions (e.g. `skew`, `kurtosis`), the default behavior of `mode` typically preserves the axis it acts along. In SciPy 1.11.0, this behavior will change: the default value of `keepdims` will become False, the `axis` over which the statistic is taken will be eliminated, and the value None will no longer be accepted. Set `keepdims` to True or False to avoid this warning.\n",
      "  mode, _ = stats.mode(_y[neigh_ind, k], axis=1)\n",
      "C:\\Users\\shali\\anaconda3\\lib\\site-packages\\sklearn\\neighbors\\_classification.py:228: FutureWarning: Unlike other reduction functions (e.g. `skew`, `kurtosis`), the default behavior of `mode` typically preserves the axis it acts along. In SciPy 1.11.0, this behavior will change: the default value of `keepdims` will become False, the `axis` over which the statistic is taken will be eliminated, and the value None will no longer be accepted. Set `keepdims` to True or False to avoid this warning.\n",
      "  mode, _ = stats.mode(_y[neigh_ind, k], axis=1)\n"
     ]
    },
    {
     "name": "stdout",
     "output_type": "stream",
     "text": [
      "\n",
      "Accuracy values for 10-fold Cross Validation:\n",
      " [0.50460166 0.50966025 0.5380755  0.53356082 0.48707187 0.53171581\n",
      " 0.5540921  0.56378949 0.52751992 0.5244035 ]\n",
      "\n",
      "Final Average Accuracy of the model: 0.53\n"
     ]
    },
    {
     "name": "stderr",
     "output_type": "stream",
     "text": [
      "C:\\Users\\shali\\anaconda3\\lib\\site-packages\\sklearn\\neighbors\\_classification.py:228: FutureWarning: Unlike other reduction functions (e.g. `skew`, `kurtosis`), the default behavior of `mode` typically preserves the axis it acts along. In SciPy 1.11.0, this behavior will change: the default value of `keepdims` will become False, the `axis` over which the statistic is taken will be eliminated, and the value None will no longer be accepted. Set `keepdims` to True or False to avoid this warning.\n",
      "  mode, _ = stats.mode(_y[neigh_ind, k], axis=1)\n"
     ]
    }
   ],
   "source": [
    "###### K-Nearest Neighbor(KNN)\n",
    "from sklearn.neighbors import KNeighborsClassifier\n",
    "clf = KNeighborsClassifier(n_neighbors=5)\n",
    "\n",
    "#Printing all the parameters of KNN\n",
    "print(clf)\n",
    "\n",
    "#Creating the model on Training Data\n",
    "KNN=clf.fit(X_train,y_train)\n",
    "prediction=KNN.predict(X_test)\n",
    "\n",
    "#Measuring accuracy on Testing Data\n",
    "from sklearn import metrics\n",
    "print(metrics.classification_report(y_test, prediction))\n",
    "print(metrics.confusion_matrix(y_test, prediction))\n",
    "\n",
    "#Printing the Overall Accuracy of the model\n",
    "F1_Score=metrics.f1_score(y_test, prediction, average='weighted')\n",
    "print('Accuracy of the model on Testing Sample Data:', round(F1_Score,2))\n",
    "\n",
    "#Importing cross validation function from sklearn\n",
    "from sklearn.model_selection import cross_val_score\n",
    "\n",
    "#Running 10-Fold Cross validation on a given algorithm\n",
    "#Passing full data X and y because the K-fold will split the data and automatically choose train/test\n",
    "Accuracy_Values=cross_val_score(KNN, X , y, cv=10, scoring='f1_weighted')\n",
    "print('\\nAccuracy values for 10-fold Cross Validation:\\n',Accuracy_Values)\n",
    "print('\\nFinal Average Accuracy of the model:', round(Accuracy_Values.mean(),2))\n"
   ]
  },
  {
   "cell_type": "markdown",
   "id": "7f1e8f53",
   "metadata": {},
   "source": [
    "### Fit the the data on the model that performs better"
   ]
  },
  {
   "cell_type": "code",
   "execution_count": 29,
   "id": "0a3c1009",
   "metadata": {},
   "outputs": [],
   "source": [
    "clf = LogisticRegression(C=10,penalty='l2', solver='newton-cg')\n",
    "FinalModel=clf.fit(X,y)"
   ]
  },
  {
   "cell_type": "markdown",
   "id": "5b7614b3",
   "metadata": {},
   "source": [
    "### Using the model for predictions"
   ]
  },
  {
   "cell_type": "code",
   "execution_count": 38,
   "id": "37496ba5",
   "metadata": {},
   "outputs": [],
   "source": [
    "# Defining a function which converts words into numeric vectors for prediction\n",
    "def FunctionPredictLabel(NewArticle):\n",
    "    \n",
    "    # Generating the Glove word vector embeddings\n",
    "    X= text_preprocessing(NewArticle)\n",
    "    X= Text2Vector(X)\n",
    "    #print(X)\n",
    "    \n",
    "    # If standardization/normalization was done on training\n",
    "    # then the above X must also be converted to same platform\n",
    "    # Generating the normalized values of X\n",
    "    X=PredictorScalerFit.transform(X)\n",
    "    \n",
    "    # Generating the prediction using Naive Bayes model and returning\n",
    "    Prediction=FinalModel.predict(X)\n",
    "    Result=pd.DataFrame(data=NewArticle, columns=['Text'])\n",
    "    Result['Prediction']=Prediction\n",
    "    return(Result)"
   ]
  },
  {
   "cell_type": "code",
   "execution_count": null,
   "id": "2c697d79",
   "metadata": {
    "scrolled": true
   },
   "outputs": [],
   "source": [
    "# Calling the function\n",
    "NewArticle=\"The Honda CBF Stunner is an efficient and stylish bike that is sure to turn heads. It boasts a powerful 124.7cc engine and a top speed of 98 kmph. It is fuel-efficient and has an impressive mileage of 57 kmpl. Its impressive features include an Anti-Lock braking system for better safety, a digital speedometer for convenience, and an easy-to-use self-start feature. The Honda CBF Stunner has a stylish design and comes in a range of eye-catching colours. It offers great value for money and is perfect for those looking for a reliable and stylish bike.\"#,\"Schanuel’s stat line might be the only one to rival Crews’, a hilarious .447/.615/.868 with 71 walks against just 14 strikeouts. He’s done so in Conference USA, not the SEC, so he hasn’t faced the same caliber of arms, and he’s limited to first base, which seriously dents his draft stock, as does a mediocre performance hitting on the Cape last summer. He can hammer a fastball, even at good velocity, and rarely whiffs on heaters or chases anything out of the zone. He starts with his hands high above his head, except with two strikes, when he starts a little closer to the helmet, but it’s mostly just for show as he gets his hands into position in time. Otherwise, it’s a simple approach, and his hands and hips work very well together for solid contact … but it’s not elite contact quality or huge raw power, which might indicate there’s a lower ceiling for the bat. If he could play anywhere else, he’d probably sneak into the top half of the round.\"]\n",
    "FunctionPredictLabel(NewArticle)"
   ]
  },
  {
   "cell_type": "markdown",
   "id": "0e6ed922",
   "metadata": {},
   "source": [
    "#### Text Clustering Using KMeans"
   ]
  },
  {
   "cell_type": "code",
   "execution_count": null,
   "id": "7771f60a",
   "metadata": {},
   "outputs": [],
   "source": [
    "from sklearn.cluster import KMeans\n",
    "from tqdm.notebook import tqdm\n",
    "from sklearn.metrics import silhouette_score\n",
    "\n",
    "X = X_train\n",
    "cluster_results_km = pd.DataFrame({'K': range(6, 25), 'SIL': np.nan})\n",
    "cluster_results_km.set_index('K', inplace=True)\n",
    "for k in tqdm(cluster_results_km.index):\n",
    "    km_model = KMeans(n_clusters = k, init ='k-means++', random_state = 42)\n",
    "    y = km_model.fit_predict(X)\n",
    "    cluster_results_km.loc[k, 'SIL'] = silhouette_score(X, y)\n",
    "    \n",
    "cluster_results_km.idxmax(), cluster_results_km.max()"
   ]
  },
  {
   "cell_type": "markdown",
   "id": "771739fc",
   "metadata": {},
   "source": [
    "### Model Improvement Discussion"
   ]
  },
  {
   "cell_type": "markdown",
   "id": "8e64a889",
   "metadata": {},
   "source": [
    "- The dataset we had to start with had a good balance of samples from all classes. If that was not the case, we should have had to synthesize some data to create enough samples for each class.\n",
    "\n",
    "- When we look at the count vectorised data, there are a lot of slangs and typos as well. This poor data quality in turn affects the quality of the model.\n",
    "\n",
    "- Due to the limitations in computational power, the sample taken was just half of the dataset, which means it was trained on less than half of the real dataset. With a better training, we could have improved the chances of better predictions with the model"
   ]
  }
 ],
 "metadata": {
  "kernelspec": {
   "display_name": "Python 3 (ipykernel)",
   "language": "python",
   "name": "python3"
  },
  "language_info": {
   "codemirror_mode": {
    "name": "ipython",
    "version": 3
   },
   "file_extension": ".py",
   "mimetype": "text/x-python",
   "name": "python",
   "nbconvert_exporter": "python",
   "pygments_lexer": "ipython3",
   "version": "3.9.13"
  },
  "toc": {
   "base_numbering": 1,
   "nav_menu": {},
   "number_sections": true,
   "sideBar": true,
   "skip_h1_title": false,
   "title_cell": "Table of Contents",
   "title_sidebar": "Contents",
   "toc_cell": false,
   "toc_position": {},
   "toc_section_display": true,
   "toc_window_display": false
  }
 },
 "nbformat": 4,
 "nbformat_minor": 5
}
